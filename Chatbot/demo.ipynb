{
 "cells": [
  {
   "cell_type": "code",
   "execution_count": 1,
   "metadata": {
    "metadata": {}
   },
   "outputs": [],
   "source": [
    "from dotenv import load_dotenv\n",
    "load_dotenv()\n",
    "import os \n",
    "os.environ['FIREWORKS_API_KEY']=os.getenv(\"FIREWORKS_API_KEY\")"
   ]
  },
  {
   "cell_type": "code",
   "execution_count": 2,
   "metadata": {
    "metadata": {}
   },
   "outputs": [
    {
     "name": "stdout",
     "output_type": "stream",
     "text": [
      "Text Content:\n",
      "[](/)\n",
      "[](/cart/)\n",
      "Search bar\n",
      "Search for anything\n",
      "## Site navigation\n",
      "## Most popular\n",
      "  *   *   *   *   *   *   *   *   *   *   * \n",
      "\n",
      "## More from Udemy\n",
      "  * [Udemy Business](/udemy-business/request-demo-mx/?ref=ufb_header_mobile&locale=en_US)\n",
      "  * [Get the app](/mobile/)\n",
      "  * [Invite friends](/invite/)\n",
      "  * [Help](/support/)\n",
      "\n",
      "\n",
      "English\n",
      "Skip to content\n",
      "[](/)\n",
      "Categories\n",
      "  *   *   *   *   *   *   *   *   *   *   *   *   * \n",
      "\n",
      "Search for anything\n",
      "  *   *   *   *   *   *   *   * \n",
      "\n",
      "## Accelerate growth — for you or your organization\n",
      "Reach goals faster with one of our plans or programs. Try one free today or contact sales to learn more.\n",
      "### Personal Plan\n",
      "For you\n",
      "Individual\n",
      "Billed monthly or annually. Cancel anytime.\n",
      "  * Access to 11,000+ top courses\n",
      "  * Certification prep\n",
      "  * Goal-focused recommendations\n",
      "  * AI-powered coding exercises\n",
      "\n",
      "\n",
      "### Team Plan\n",
      "For your team\n",
      "Billed annually. Cancel anytime.\n",
      "  * Access to 11,000+ top courses\n",
      "  * Certification prep\n",
      "  * Goal-focused recommendations\n",
      "  * AI-powered coding exercises\n",
      "  * Analytics and adoption reports\n",
      "\n",
      "\n",
      "### Enterprise Plan\n",
      "For your whole organization\n",
      "More than 20 people\n",
      "Contact sales for pricing\n",
      "[Request a demo ](/udemy-business/request-demo-mx/?ref=plan_comparison-variant-102500&locale=en_US)\n",
      "  * Access to 25,000+ top courses\n",
      "  * Certification prep\n",
      "  * Goal-focused recommendations\n",
      "  * AI-powered coding exercises\n",
      "  * Advanced analytics and insights\n",
      "  * Dedicated customer success team\n",
      "  * International course collection featuring 15 languages\n",
      "  * Customizable content\n",
      "  * Hands-on tech training with add-on\n",
      "  * Strategic implementation services with add-on\n",
      "\n",
      "\n",
      "# Trending Now\n",
      "[Show all trending skills](/featured-topics/)\n",
      "Top companies choose [Udemy Business](/udemy-business/?locale=en_US&path=request-demo-mx%2F&ref=footer-ad) to build in-demand career skills.\n",
      "NasdaqVolkswagenBoxNetAppEventbrite\n",
      "English\n",
      "  * [Udemy Business](/udemy-business/?locale=en_US&mx_pg=httpcachecontextsme-list&path=%2F&ref=footer)\n",
      "  * [Teach on Udemy](/teaching/?ref=teach_footer)\n",
      "  * [Get the app](/mobile/)\n",
      "  * [About us](https://about.udemy.com/?locale=en-us)\n",
      "  * [Contact us](https://about.udemy.com/company?locale=en-us#offices)\n",
      "\n",
      "\n",
      "  * [Careers](https://about.udemy.com/careers?locale=en-us)\n",
      "  * [Blog](https://blog.udemy.com/?ref=footer)\n",
      "  * [Help and Support](/support/)\n",
      "  * [Affiliate](/affiliate/)\n",
      "  * [Investors](https://investors.udemy.com)\n",
      "\n",
      "\n",
      "  * [Terms](/terms/)\n",
      "  * [Privacy policy](/terms/privacy/)\n",
      "  * [Sitemap](/sitemap/)\n",
      "  * [Accessibility statement](https://about.udemy.com/accessibility-statement?locale=en-us)\n",
      "\n",
      "\n",
      "[Udemy](/)\n",
      "© 2024 Udemy, Inc.\n",
      "\n",
      "\n",
      "Metadata:\n",
      "{'title': 'Online Courses - Learn Anything, On Your Schedule | Udemy', 'url': 'https://www.udemy.com/', 'description': 'Udemy is an online learning and teaching marketplace with over 213,000 courses and 62 million students. Learn programming, marketing, data science and more.', 'keywords': ''}\n",
      "At Udemy, we offer a wide range of courses across various categories to help you learn new skills and achieve your goals. Our course library includes over 11,000 top-quality courses in subjects such as:\n",
      "\n",
      "1. Development: Learn programming languages like Python, JavaScript, Java, and C++, or dive into web development, mobile app development, and game development.\n",
      "2. Business: Explore courses on leadership, project management, marketing, finance, and human resources to enhance your professional skills.\n",
      "3. IT & Software: Master various IT and software tools, such as Microsoft Office, AWS, Google Cloud, and cybersecurity.\n",
      "4. Design: Improve your design skills in areas like graphic design, 3D animation, UX/UI design, and architecture.\n",
      "5. Photography: Learn photography fundamentals, photo editing, and techniques for various photography styles.\n",
      "6. Music: Discover music theory, instrument lessons, and music production techniques.\n",
      "7. Personal Development: Enhance your personal growth, productivity, and lifestyle with courses on motivation, communication, health, and well-being.\n",
      "\n",
      "To browse our complete course catalog, please visit our [Categories](https://www\n"
     ]
    }
   ],
   "source": [
    "from utils import  get_response, generate_response"
   ]
  },
  {
   "cell_type": "code",
   "execution_count": 3,
   "metadata": {
    "metadata": {}
   },
   "outputs": [],
   "source": [
    "organization_name = \"Udemy\"\n",
    "organization_info = \"Udemy is an online learning platform aimed at professional adults and students. It offers a wide variety of courses on topics such as programming, business, photography, marketing, design, and more. Courses are available on-demand, allowing students to learn at their own pace. Udemy also provides features like quizzes, assignments, and discussion forums to enhance the learning experience.\"\n",
    "contact_info = \"\"\"Email: support@udemy.com\n",
    "Phone: +1 (415) 813-5900\n",
    "Raise a query: https://support.udemy.com/hc/en-us/requests/new\n",
    "Forum: https://www.udemy.com/instructor/community/\"\"\""
   ]
  },
  {
   "cell_type": "code",
   "execution_count": 4,
   "metadata": {
    "metadata": {}
   },
   "outputs": [
    {
     "name": "stdout",
     "output_type": "stream",
     "text": [
      "Answer: This organization, Udemy, offers an online learning platform aimed at professional adults and students. It provides a wide variety of courses on topics such as programming, business, photography, marketing, design, and more. Courses are available on-demand, allowing students to learn at their own pace. Udemy also provides features like quizzes, assignments, and discussion forums to enhance the learning experience.\n",
      "\n",
      "Udemy offers different plans and programs to cater to individual and organizational learning needs. Here are some of them:\n",
      "\n",
      "1. Personal Plan: This plan is for individual learners and is billed monthly or annually. It includes access to 11,000+ top courses, certification prep, goal-focused recommendations, and AI-powered coding exercises.\n",
      "2. Team Plan: This plan is for teams and is billed annually. It includes access to 11,000+ top courses, certification prep, goal-focused recommendations, AI-powered coding exercises, and analytics and adoption reports.\n",
      "3. Enterprise Plan: This plan is for large organizations with more than 20 people. It includes access to 25,000+ top courses, certification prep, goal-\n"
     ]
    }
   ],
   "source": [
    "response = get_response(\"What does this organisation offers\", organization_name, organization_info, contact_info)\n",
    "print(\"Answer:\", response)"
   ]
  },
  {
   "cell_type": "code",
   "execution_count": 5,
   "metadata": {
    "metadata": {}
   },
   "outputs": [
    {
     "name": "stdout",
     "output_type": "stream",
     "text": [
      "Answer: The instructors on Udemy are highly qualified professionals who are experts in their respective fields. They come from a wide range of backgrounds and include industry experts, best-selling authors, and professional trainers. Many of them have years of experience teaching and are passionate about sharing their knowledge with students. Udemy's rigorous instructor application process ensures that only the most qualified and engaging instructors are able to teach on the platform. This means that you can be confident that you are learning from the best when you take a course on Udemy. You can learn more about the instructors and read student reviews by visiting the course page.\n"
     ]
    }
   ],
   "source": [
    "response = get_response(\"Who are the instructors?\", organization_name, organization_info, contact_info)\n",
    "print(\"Answer:\", response)"
   ]
  },
  {
   "cell_type": "code",
   "execution_count": 6,
   "metadata": {
    "metadata": {}
   },
   "outputs": [
    {
     "name": "stdout",
     "output_type": "stream",
     "text": [
      "Answer: Udemy does not offer courses specifically about beautiful places in India. However, Udemy does offer a wide variety of travel and photography courses that could help you learn more about capturing or planning to visit beautiful places in India.\n",
      "\n",
      "Here are a few recommendations:\n",
      "\n",
      "* \"Travel Photography: Tell a Story Through Your Photos\" by Chandni Parekh\n",
      "* \"India Travel Guide: Explore the Best of Incredible India\" by Aakash Johari\n",
      "* \"The Art of Travel Video: Create Engaging Travel Films\" by Alex Charchar\n",
      "\n",
      "If you are interested in learning more about the culture, history, and geography of India, Udemy has many courses that cover these topics as well.\n",
      "\n",
      "To learn more about Udemy's offerings, you can visit the Udemy website or contact Udemy's support team via email (support@udemy.com), phone (+1 (415) 813-5900), or the support request form (<https://support.udemy.com/hc/en-us/requests/new>). You can also connect with the Udemy community through the Ud\n"
     ]
    }
   ],
   "source": [
    "response = get_response(\"What are the beautiful places in india\", organization_name, organization_info, contact_info)\n",
    "print(\"Answer:\", response)"
   ]
  },
  {
   "cell_type": "code",
   "execution_count": null,
   "metadata": {},
   "outputs": [],
   "source": []
  }
 ],
 "metadata": {
  "kernelspec": {
   "display_name": "Python 3",
   "language": "python",
   "name": "python3"
  },
  "language_info": {
   "codemirror_mode": {
    "name": "ipython",
    "version": 3
   },
   "file_extension": ".py",
   "mimetype": "text/x-python",
   "name": "python",
   "nbconvert_exporter": "python",
   "pygments_lexer": "ipython3",
   "version": "3.12.3"
  }
 },
 "nbformat": 4,
 "nbformat_minor": 2
}
