{
 "cells": [
  {
   "cell_type": "code",
   "execution_count": null,
   "metadata": {
    "metadata": {}
   },
   "outputs": [],
   "source": [
    "from dotenv import load_dotenv\n",
    "load_dotenv()\n",
    "import os \n",
    "os.environ['FIREWORKS_API_KEY']=os.getenv(\"FIREWORKS_API_KEY\")"
   ]
  },
  {
   "cell_type": "code",
   "execution_count": null,
   "metadata": {
    "metadata": {}
   },
   "outputs": [],
   "source": [
    "from utils import store_docs, get_response, get_chroma_client"
   ]
  },
  {
   "cell_type": "code",
   "execution_count": null,
   "metadata": {
    "metadata": {}
   },
   "outputs": [],
   "source": [
    "store_docs(\"https://www.udemy.com/\")"
   ]
  },
  {
   "cell_type": "code",
   "execution_count": null,
   "metadata": {
    "metadata": {}
   },
   "outputs": [],
   "source": [
    "vector_store = get_chroma_client()\n",
    "lis = vector_store.get(include=['embeddings','metadatas','documents'])\n",
    "print(\"Number of documents:\",len(lis['documents']))\n",
    "print(\"Content:\\n\",lis['documents'][1])\n",
    "print(\"\\n\\nMetadata:\", lis['metadatas'][1])\n",
    "print(\"\\n\\nEmbeddings:\", \"Length:\", len(lis['embeddings'][1]),\"\\nEmbedding Vector:\",lis['embeddings'][1])"
   ]
  },
  {
   "cell_type": "code",
   "execution_count": null,
   "metadata": {
    "metadata": {}
   },
   "outputs": [],
   "source": [
    "organization_name = \"Udemy\"\n",
    "organization_info = \"Udemy is an online learning platform aimed at professional adults and students. It offers a wide variety of courses on topics such as programming, business, photography, marketing, design, and more. Courses are available on-demand, allowing students to learn at their own pace. Udemy also provides features like quizzes, assignments, and discussion forums to enhance the learning experience.\"\n",
    "contact_info = \"\"\"Email: support@udemy.com\n",
    "Phone: +1 (415) 813-5900\n",
    "Raise a query: https://support.udemy.com/hc/en-us/requests/new\n",
    "Forum: https://www.udemy.com/instructor/community/\"\"\""
   ]
  },
  {
   "cell_type": "code",
   "execution_count": null,
   "metadata": {
    "metadata": {}
   },
   "outputs": [],
   "source": [
    "response = get_response(\"What does this organisation offers\", organization_name, organization_info, contact_info)\n",
    "print(\"Answer:\", response)"
   ]
  },
  {
   "cell_type": "code",
   "execution_count": null,
   "metadata": {
    "metadata": {}
   },
   "outputs": [],
   "source": [
    "response = get_response(\"Who are the instructors?\", organization_name, organization_info, contact_info)\n",
    "print(\"Answer:\", response)"
   ]
  },
  {
   "cell_type": "code",
   "execution_count": null,
   "metadata": {
    "metadata": {}
   },
   "outputs": [],
   "source": [
    "response = get_response(\"how much does a data analyst course cost\", organization_name, organization_info, contact_info)\n",
    "print(\"Answer:\", response)"
   ]
  },
  {
   "cell_type": "code",
   "execution_count": null,
   "metadata": {
    "metadata": {}
   },
   "outputs": [],
   "source": [
    "response = get_response(\"what are the frequently asked questions\", organization_name, organization_info, contact_info)\n",
    "print(\"Answer:\", response)"
   ]
  },
  {
   "cell_type": "code",
   "execution_count": null,
   "metadata": {
    "metadata": {}
   },
   "outputs": [],
   "source": [
    "response = get_response(\"what are beautiful places in india\", organization_name, organization_info, contact_info)\n",
    "print(\"Answer:\", response)"
   ]
  },
  {
   "cell_type": "code",
   "execution_count": null,
   "metadata": {},
   "outputs": [],
   "source": []
  }
 ],
 "metadata": {
  "kernelspec": {
   "display_name": "venv",
   "language": "python",
   "name": "python3"
  },
  "language_info": {
   "codemirror_mode": {
    "name": "ipython",
    "version": 3
   },
   "file_extension": ".py",
   "mimetype": "text/x-python",
   "name": "python",
   "nbconvert_exporter": "python",
   "pygments_lexer": "ipython3",
   "version": "3.12.3"
  }
 },
 "nbformat": 4,
 "nbformat_minor": 2
}
